{
 "cells": [
  {
   "cell_type": "markdown",
   "metadata": {},
   "source": [
    "# Week 4 - Aditya Sumbaraju\n",
    "\n",
    "http://thinkstats2.com\n",
    "\n",
    "Copyright 2016 Allen B. Downey\n",
    "\n",
    "MIT License: https://opensource.org/licenses/MIT"
   ]
  },
  {
   "cell_type": "code",
   "execution_count": 2,
   "metadata": {},
   "outputs": [],
   "source": [
    "\n",
    "## loading required modules\n",
    "from __future__ import print_function, division\n",
    "\n",
    "import nsfg"
   ]
  },
  {
   "cell_type": "code",
   "execution_count": 4,
   "metadata": {},
   "outputs": [],
   "source": [
    "## Import further modules\n",
    "%matplotlib inline\n",
    "import first\n",
    "import numpy as np\n",
    "import thinkstats2\n",
    "import thinkplot"
   ]
  },
  {
   "cell_type": "code",
   "execution_count": 5,
   "metadata": {},
   "outputs": [],
   "source": [
    "## load data\n",
    "\n",
    "paradox_data = nsfg.ReadFemResp()"
   ]
  },
  {
   "cell_type": "code",
   "execution_count": 6,
   "metadata": {},
   "outputs": [],
   "source": [
    "## create the distribution (pmf) for numkdhh\n",
    "pmf = thinkstats2.Pmf(paradox_data.numkdhh, label='Respondent Variable: NUMKDHH')"
   ]
  },
  {
   "cell_type": "code",
   "execution_count": 7,
   "metadata": {},
   "outputs": [
    {
     "data": {
      "image/png": "[encoded data removed]",
      "text/plain": [
       "<Figure size 432x288 with 1 Axes>"
      ]
     },
     "metadata": {
      "needs_background": "light"
     },
     "output_type": "display_data"
    }
   ],
   "source": [
    "## visualize the distribution\n",
    "thinkplot.Pmf(pmf)\n",
    "thinkplot.Config(xlabel='Number of children', ylabel='PMF')"
   ]
  },
  {
   "cell_type": "code",
   "execution_count": 8,
   "metadata": {},
   "outputs": [],
   "source": [
    "## creating the biased distribution function\n",
    "def BiasPmf(pmf, label):\n",
    "    new_pmf = pmf.Copy(label=label)\n",
    "\n",
    "    for x, p in pmf.Items():\n",
    "        new_pmf.Mult(x, x)\n",
    "        \n",
    "    new_pmf.Normalize()\n",
    "    return new_pmf"
   ]
  },
  {
   "cell_type": "code",
   "execution_count": 9,
   "metadata": {},
   "outputs": [],
   "source": [
    "## Computing the biased distributions\n",
    "biased_dist = BiasPmf(pmf, label='Biased Distribution')\n",
    "## Visualizing the distribution\n"
   ]
  },
  {
   "cell_type": "code",
   "execution_count": 10,
   "metadata": {},
   "outputs": [
    {
     "data": {
      "image/png": "[encoded data removed]",
      "text/plain": [
       "<Figure size 432x288 with 1 Axes>"
      ]
     },
     "metadata": {
      "needs_background": "light"
     },
     "output_type": "display_data"
    }
   ],
   "source": [
    "## Plotting the actual and biased distributions\n",
    "thinkplot.PrePlot(2)\n",
    "thinkplot.Pmfs([pmf, biased_dist])\n",
    "thinkplot.Config(xlabel='Number of children', ylabel='PMF')\n"
   ]
  },
  {
   "cell_type": "code",
   "execution_count": 11,
   "metadata": {},
   "outputs": [
    {
     "data": {
      "text/plain": [
       "1.024205155043831"
      ]
     },
     "execution_count": 11,
     "metadata": {},
     "output_type": "execute_result"
    }
   ],
   "source": [
    "## mean for the actual\n",
    "pmf.Mean()\n"
   ]
  },
  {
   "cell_type": "code",
   "execution_count": 12,
   "metadata": {},
   "outputs": [
    {
     "data": {
      "text/plain": [
       "2.403679100664282"
      ]
     },
     "execution_count": 12,
     "metadata": {},
     "output_type": "execute_result"
    }
   ],
   "source": [
    "# Mean for the biased\n",
    "biased_dist.Mean()"
   ]
  },
  {
   "cell_type": "markdown",
   "metadata": {},
   "source": [
    "## exercise 3-2"
   ]
  },
  {
   "cell_type": "code",
   "execution_count": 13,
   "metadata": {},
   "outputs": [],
   "source": [
    "## Create PmFMean function for computing mean\n",
    "def PmfMean(pmf):\n",
    "    mean = 0.0\n",
    "    for x, p in pmf.d.items():\n",
    "        mean += p * x\n",
    "    return mean\n",
    "\n",
    "## Create pmfVar for Computing variance of the PMF\n",
    "def PmfVar(pmf, mu=None):\n",
    "    if mu is None:\n",
    "        mu = pmf.Mean()\n",
    "    var = 0.0\n",
    "    for x, p in pmf.d.items():\n",
    "        var += p * (x - mu) ** 2\n",
    "    return var\n"
   ]
  },
  {
   "cell_type": "code",
   "execution_count": 14,
   "metadata": {},
   "outputs": [
    {
     "data": {
      "text/plain": [
       "2.403679100664282"
      ]
     },
     "execution_count": 14,
     "metadata": {},
     "output_type": "execute_result"
    }
   ],
   "source": [
    "## Testing the functions: biased mean\n",
    "PmfMean(biased_dist)"
   ]
  },
  {
   "cell_type": "code",
   "execution_count": 15,
   "metadata": {},
   "outputs": [
    {
     "data": {
      "text/plain": [
       "1.024205155043831"
      ]
     },
     "execution_count": 15,
     "metadata": {},
     "output_type": "execute_result"
    }
   ],
   "source": [
    "## ACtual mean\n",
    "PmfMean(pmf)"
   ]
  },
  {
   "cell_type": "markdown",
   "metadata": {},
   "source": [
    "The functions are consistent"
   ]
  },
  {
   "cell_type": "markdown",
   "metadata": {},
   "source": [
    "## Exercise 4-1"
   ]
  },
  {
   "cell_type": "code",
   "execution_count": 16,
   "metadata": {},
   "outputs": [],
   "source": [
    "def MakeFrames():\n",
    "    \n",
    "    preg = nsfg.ReadFemPreg()\n",
    "\n",
    "    live = preg[preg.outcome == 1]\n",
    "    firsts = live[live.birthord == 1]\n",
    "    others = live[live.birthord != 1]\n",
    "\n",
    "    assert len(live) == 9148\n",
    "    assert len(firsts) == 4413\n",
    "    assert len(others) == 4735\n",
    "\n",
    "    return live, firsts, others\n"
   ]
  },
  {
   "cell_type": "code",
   "execution_count": 17,
   "metadata": {},
   "outputs": [],
   "source": [
    "live, firsts, others = MakeFrames()"
   ]
  },
  {
   "cell_type": "code",
   "execution_count": 18,
   "metadata": {},
   "outputs": [
    {
     "name": "stdout",
     "output_type": "stream",
     "text": [
      "First Babies 4413 4363\n",
      "Other Babies 4735 4675\n"
     ]
    }
   ],
   "source": [
    "## Computing the birth weight of first babies and the others\n",
    "first_wgt = firsts.totalwgt_lb\n",
    "first_wgt_dropna = first_wgt.dropna()\n",
    "print('First Babies', len(first_wgt), len(first_wgt_dropna))\n",
    " \n",
    "other_wgt = others.totalwgt_lb\n",
    "other_wgt_dropna = other_wgt.dropna()\n",
    "print('Other Babies', len(other_wgt), len(other_wgt_dropna))\n",
    "\n",
    "first_pmf = thinkstats2.Pmf(first_wgt_dropna, label='First Babies')\n",
    "other_pmf = thinkstats2.Pmf(other_wgt_dropna, label='Other Babies')"
   ]
  },
  {
   "cell_type": "markdown",
   "metadata": {},
   "source": [
    "## Weigh at Birth"
   ]
  },
  {
   "cell_type": "code",
   "execution_count": 19,
   "metadata": {},
   "outputs": [],
   "source": [
    "first_cdf = thinkstats2.Cdf(firsts.totalwgt_lb, label='first')\n",
    "other_cdf = thinkstats2.Cdf(others.totalwgt_lb, label='other')\n",
    "## Percentile ranks\n",
    "def PercentileRank(scores, your_score):\n",
    "    count = 0\n",
    "    for score in scores:\n",
    "        if score <= your_score:\n",
    "            count += 1\n",
    "\n",
    "    percentile_rank = 100.0 * count / len(scores)\n",
    "    return percentile_rank"
   ]
  },
  {
   "cell_type": "code",
   "execution_count": 20,
   "metadata": {},
   "outputs": [
    {
     "data": {
      "text/plain": [
       "93.1469172587669"
      ]
     },
     "execution_count": 20,
     "metadata": {},
     "output_type": "execute_result"
    }
   ],
   "source": [
    "## Weight at birth as a first baby\n",
    "first_cdf.PercentileRank(9)"
   ]
  },
  {
   "cell_type": "code",
   "execution_count": 21,
   "metadata": {},
   "outputs": [
    {
     "data": {
      "text/plain": [
       "91.8716577540107"
      ]
     },
     "execution_count": 21,
     "metadata": {},
     "output_type": "execute_result"
    }
   ],
   "source": [
    "## Weight at birth for other baby\n",
    "other_cdf.PercentileRank(9)"
   ]
  },
  {
   "cell_type": "markdown",
   "metadata": {},
   "source": [
    "## Exercise 4-2"
   ]
  },
  {
   "cell_type": "code",
   "execution_count": 22,
   "metadata": {},
   "outputs": [
    {
     "data": {
      "text/plain": [
       "array([4.14072421e-01, 8.96158142e-02, 2.05630989e-01, 4.00264832e-01,\n",
       "       6.23607802e-01, 6.53825548e-01, 8.66476196e-01, 8.94942143e-01,\n",
       "       6.93314944e-02, 8.96734694e-01, 4.80788190e-02, 9.80138894e-01,\n",
       "       5.60243861e-01, 3.97713856e-01, 1.38991895e-01, 8.27144851e-01,\n",
       "       7.80805565e-01, 7.41709740e-01, 2.56142912e-02, 2.27661554e-01,\n",
       "       2.81513425e-01, 4.66778868e-01, 2.96764064e-01, 4.43016708e-01,\n",
       "       6.32294849e-01, 6.19429748e-02, 1.68244082e-01, 6.37764042e-01,\n",
       "       1.38692247e-01, 8.27874987e-01, 1.04728206e-01, 9.76453289e-01,\n",
       "       5.17184545e-02, 4.55352136e-01, 6.85134660e-01, 5.28167461e-01,\n",
       "       5.59650186e-01, 9.82411743e-01, 1.22867055e-01, 4.41343804e-01,\n",
       "       2.45195185e-02, 8.94732525e-01, 7.74089404e-01, 9.27404148e-01,\n",
       "       1.56781696e-01, 2.78736288e-02, 6.60991460e-01, 7.11543885e-01,\n",
       "       4.94325302e-01, 8.83668254e-01, 4.27747688e-02, 3.96573922e-01,\n",
       "       3.94129649e-01, 5.08096803e-01, 5.28121852e-01, 5.07496082e-01,\n",
       "       7.72536630e-01, 6.06541813e-01, 4.73405439e-01, 2.60191459e-01,\n",
       "       5.20757562e-01, 3.21932384e-01, 9.59245024e-01, 3.68849392e-01,\n",
       "       8.46317082e-01, 9.22796289e-01, 2.58492972e-01, 2.43619041e-01,\n",
       "       4.19022930e-01, 6.06445832e-01, 1.70574834e-01, 5.29659857e-01,\n",
       "       2.51026711e-01, 2.38899747e-01, 9.61689408e-01, 3.15595727e-01,\n",
       "       6.10701610e-01, 3.76263206e-01, 4.91462867e-01, 7.44313836e-01,\n",
       "       9.54197082e-01, 9.45373710e-01, 8.67078012e-01, 6.88184365e-01,\n",
       "       7.88982434e-01, 9.52483156e-01, 4.28603635e-02, 1.29532779e-01,\n",
       "       9.26295199e-01, 3.93544098e-01, 9.60389679e-01, 9.66838267e-01,\n",
       "       3.59831108e-01, 7.83616443e-02, 6.63557291e-01, 7.16627258e-01,\n",
       "       8.90683855e-01, 6.98856916e-01, 9.38226385e-03, 3.25609108e-01,\n",
       "       5.40015681e-01, 5.12908698e-01, 4.97170820e-01, 5.86115478e-01,\n",
       "       2.93021696e-01, 8.63554361e-01, 5.36336969e-01, 1.64380429e-01,\n",
       "       2.73783849e-01, 2.44054923e-01, 9.85726548e-01, 1.10409366e-01,\n",
       "       5.35105769e-01, 8.99659174e-01, 6.61917706e-02, 4.90052239e-02,\n",
       "       6.06006150e-01, 3.39206456e-02, 9.83298081e-01, 1.82896581e-01,\n",
       "       5.04854971e-01, 3.10317565e-01, 6.89936066e-01, 5.63540188e-01,\n",
       "       2.68760166e-01, 8.28650079e-01, 8.45256882e-01, 6.51650379e-01,\n",
       "       2.07079262e-01, 2.61878114e-01, 2.86093034e-02, 8.68348122e-01,\n",
       "       4.49682604e-02, 3.25465470e-01, 9.06399041e-01, 5.07467812e-01,\n",
       "       4.77281102e-01, 7.02892708e-01, 3.52945923e-02, 5.27753068e-01,\n",
       "       3.56784303e-01, 1.57299328e-01, 8.88912284e-01, 9.56435138e-01,\n",
       "       2.69405761e-02, 5.26176687e-01, 1.64785470e-01, 7.84584471e-01,\n",
       "       7.43852608e-01, 9.76307521e-01, 8.82974204e-01, 4.21010775e-01,\n",
       "       3.60721064e-01, 4.50495690e-01, 3.29497449e-01, 5.91060133e-01,\n",
       "       8.37141061e-01, 3.82378068e-01, 3.00116915e-01, 3.33571176e-01,\n",
       "       3.69303886e-01, 6.05516113e-01, 4.81112638e-03, 2.22517998e-01,\n",
       "       7.39112377e-01, 4.01438125e-01, 4.69507565e-01, 8.31606349e-01,\n",
       "       2.78803788e-01, 5.34985679e-01, 8.26812084e-01, 3.42999572e-01,\n",
       "       7.42529037e-01, 8.79512984e-01, 4.58698651e-01, 3.81453105e-01,\n",
       "       7.96573754e-01, 3.68217028e-01, 2.17348170e-01, 9.08884508e-01,\n",
       "       2.22722597e-01, 1.12554599e-02, 3.57601024e-01, 4.66196806e-01,\n",
       "       3.87650981e-01, 9.55443756e-01, 8.99494382e-01, 9.89607060e-01,\n",
       "       9.68561095e-02, 1.13886331e-01, 5.03043545e-01, 8.43542945e-01,\n",
       "       9.60848479e-01, 7.90092995e-01, 9.94200438e-01, 1.71145889e-01,\n",
       "       1.48016160e-01, 5.54953918e-01, 3.68544522e-01, 9.50426910e-01,\n",
       "       1.40356947e-01, 6.16308187e-01, 2.68807642e-01, 2.87651119e-01,\n",
       "       7.08599513e-02, 5.48207681e-01, 6.43723977e-01, 5.09518737e-01,\n",
       "       6.28133431e-01, 4.78307484e-01, 4.51981585e-01, 7.46359572e-01,\n",
       "       1.52650823e-01, 8.16447845e-01, 3.14161789e-01, 6.84967999e-02,\n",
       "       3.28825170e-01, 3.56730059e-01, 7.35455945e-01, 6.25880630e-01,\n",
       "       5.64369911e-01, 4.87988423e-02, 9.92322042e-01, 2.91988944e-01,\n",
       "       7.19082101e-01, 6.56156047e-02, 8.61868990e-02, 6.45998110e-01,\n",
       "       7.87428362e-01, 8.53797490e-01, 5.05258836e-01, 5.11539627e-01,\n",
       "       6.02446669e-01, 6.90388060e-01, 9.57016118e-01, 2.35832492e-01,\n",
       "       3.75438078e-01, 2.03280808e-01, 5.53016502e-01, 3.89236613e-01,\n",
       "       1.71450185e-01, 3.69578944e-01, 8.85567429e-01, 2.90012709e-01,\n",
       "       4.83141655e-01, 7.15920450e-01, 6.15191073e-01, 7.87526173e-02,\n",
       "       4.99196291e-01, 8.13784483e-01, 8.47051441e-01, 6.17855628e-01,\n",
       "       8.78215619e-01, 4.56747019e-01, 8.34483915e-01, 8.59933107e-01,\n",
       "       8.53998689e-01, 4.35354498e-01, 5.24369296e-01, 4.59700534e-01,\n",
       "       3.49523117e-01, 9.66208754e-01, 5.73479249e-01, 7.16997803e-01,\n",
       "       6.28431851e-01, 1.89577860e-01, 8.66283519e-01, 7.60476660e-01,\n",
       "       3.83359740e-02, 1.10779793e-01, 3.64884711e-01, 4.79602302e-01,\n",
       "       1.40106347e-01, 1.11978913e-01, 1.83281377e-02, 5.34244121e-01,\n",
       "       7.45803379e-01, 9.49774290e-01, 8.75101014e-01, 1.41689853e-01,\n",
       "       4.98015978e-01, 2.73006439e-01, 1.38885184e-02, 2.53740347e-01,\n",
       "       9.44197808e-02, 7.41820673e-01, 8.03567892e-01, 7.08669457e-01,\n",
       "       6.90556912e-01, 9.08522140e-01, 3.78231460e-01, 4.11868508e-01,\n",
       "       3.44114471e-01, 8.98481175e-01, 1.10053785e-01, 4.64102375e-01,\n",
       "       2.26776883e-01, 3.62016073e-01, 5.33982159e-02, 8.09608059e-01,\n",
       "       2.43522678e-01, 4.94865412e-01, 3.10747421e-01, 3.87397988e-01,\n",
       "       8.69838824e-01, 8.94814725e-01, 1.20554649e-01, 4.32480243e-01,\n",
       "       7.39650173e-01, 2.73757316e-01, 4.82527960e-01, 4.65961499e-01,\n",
       "       2.39953590e-01, 7.04195059e-01, 7.81147875e-03, 6.55128710e-01,\n",
       "       9.23783047e-01, 8.31683659e-02, 7.42613525e-01, 9.23727816e-01,\n",
       "       8.04609632e-01, 3.09542128e-01, 4.81085957e-01, 9.51034424e-04,\n",
       "       4.08860209e-01, 4.26354655e-01, 9.60621782e-01, 4.23480581e-01,\n",
       "       2.14508857e-01, 4.74261451e-01, 8.51642971e-01, 1.78335069e-01,\n",
       "       5.66391585e-01, 1.69897460e-01, 6.49824531e-01, 8.58082863e-01,\n",
       "       8.40275670e-01, 6.39793473e-01, 8.58624005e-01, 3.16314123e-02,\n",
       "       7.67981879e-01, 8.39461685e-01, 1.66162652e-01, 4.16633692e-02,\n",
       "       7.20891773e-01, 9.21516653e-01, 3.37210093e-01, 6.75050032e-01,\n",
       "       8.87254431e-01, 1.92722880e-01, 8.55063148e-01, 1.20881635e-01,\n",
       "       8.21837017e-01, 2.91122059e-02, 4.40537026e-01, 5.36930852e-01,\n",
       "       6.27696669e-01, 1.78559046e-01, 7.18132322e-01, 5.44728274e-01,\n",
       "       5.34618289e-01, 2.89772893e-01, 3.94696191e-01, 9.77441811e-01,\n",
       "       9.26898399e-01, 6.52597502e-01, 6.44253559e-01, 8.19535210e-01,\n",
       "       7.75426370e-01, 2.34025182e-01, 3.09517237e-02, 9.24952655e-01,\n",
       "       6.79105388e-01, 2.93256165e-01, 6.69477564e-01, 7.59479690e-01,\n",
       "       4.00489077e-02, 5.01000951e-01, 6.86640026e-01, 5.91563235e-01,\n",
       "       2.64916231e-01, 1.19113693e-01, 1.41418863e-01, 1.99754349e-01,\n",
       "       3.97022539e-01, 3.09543027e-01, 1.47303788e-01, 8.77013522e-01,\n",
       "       9.51919622e-01, 9.96154296e-01, 8.16988269e-01, 3.25424316e-01,\n",
       "       2.44745527e-01, 4.59962028e-01, 4.39695610e-01, 1.07623959e-01,\n",
       "       3.46884292e-01, 4.38658523e-02, 8.63309306e-01, 1.98953623e-01,\n",
       "       3.61369673e-01, 3.63171755e-01, 2.17632675e-01, 8.64833390e-01,\n",
       "       4.08867795e-01, 7.26069057e-01, 5.01120340e-01, 7.29583904e-01,\n",
       "       4.70403460e-01, 9.72099860e-01, 3.55024971e-01, 3.66955314e-01,\n",
       "       7.01343531e-01, 8.19815348e-01, 1.69538114e-01, 2.96577810e-01,\n",
       "       8.54946862e-02, 3.01519899e-01, 7.87939504e-01, 7.81124627e-01,\n",
       "       2.38638443e-02, 6.52295472e-02, 6.49608874e-01, 2.29536524e-01,\n",
       "       5.25233374e-01, 9.57628747e-03, 6.37634175e-01, 3.97496638e-01,\n",
       "       8.38165241e-01, 2.30591954e-01, 5.24870292e-01, 5.88102872e-01,\n",
       "       6.50133104e-01, 4.45612579e-01, 8.68861727e-01, 5.79227374e-01,\n",
       "       3.00689694e-01, 3.62546902e-02, 4.46588349e-01, 9.86895725e-01,\n",
       "       3.92211469e-01, 8.73898986e-01, 9.15118003e-01, 2.53181694e-01,\n",
       "       6.04224480e-02, 7.36354773e-02, 6.08533684e-01, 1.91349132e-01,\n",
       "       8.12810013e-01, 2.10766930e-01, 2.02627599e-02, 3.38304483e-01,\n",
       "       2.53730006e-02, 8.32775208e-01, 6.62083232e-01, 8.38722745e-01,\n",
       "       5.55303497e-01, 7.96817624e-01, 7.56990577e-01, 7.84160738e-01,\n",
       "       8.50447408e-01, 1.21361672e-01, 5.21014556e-01, 1.70988845e-01,\n",
       "       5.07349704e-01, 9.94594597e-01, 7.54292938e-01, 6.22425047e-01,\n",
       "       9.97675015e-01, 5.70912517e-01, 6.47421888e-01, 2.72580501e-01,\n",
       "       1.50376968e-01, 5.41996883e-01, 4.38045997e-01, 7.58934247e-02,\n",
       "       3.79710187e-01, 9.75562419e-01, 8.45452006e-01, 6.26983382e-01,\n",
       "       1.37769445e-01, 8.50455474e-01, 9.79735905e-01, 5.05154316e-01,\n",
       "       3.41881794e-01, 9.79760744e-01, 9.32781542e-01, 8.19257646e-01,\n",
       "       7.45195489e-01, 6.54438906e-01, 7.84800174e-01, 1.84675372e-01,\n",
       "       8.43856246e-01, 3.77081999e-01, 6.18534429e-02, 5.53321454e-01,\n",
       "       5.89547219e-01, 1.11746260e-01, 7.83252837e-01, 9.02610330e-02,\n",
       "       5.05496521e-01, 6.10196418e-01, 5.76773724e-01, 2.72661104e-01,\n",
       "       5.53213589e-02, 6.05033618e-01, 5.50097660e-01, 2.48965622e-01,\n",
       "       2.63182340e-01, 5.73053624e-01, 2.15839571e-01, 4.62576633e-02,\n",
       "       3.48264397e-01, 8.59165771e-01, 3.77359784e-01, 3.48543777e-01,\n",
       "       9.33071199e-02, 6.57131544e-02, 3.81059083e-01, 3.48319725e-01,\n",
       "       5.95220954e-02, 5.75865847e-02, 7.80275991e-01, 7.33641706e-02,\n",
       "       8.04395411e-01, 3.19679237e-02, 3.18785896e-01, 6.37658360e-02,\n",
       "       3.02835267e-01, 2.78501941e-01, 7.43256407e-01, 1.22457734e-01,\n",
       "       4.65155663e-02, 9.63858893e-01, 4.18118313e-02, 7.82729144e-01,\n",
       "       5.44416074e-01, 6.07061538e-01, 9.76649603e-01, 4.31800783e-01,\n",
       "       4.29870494e-01, 4.31688766e-01, 9.33907697e-01, 8.31355044e-01,\n",
       "       2.52452781e-02, 5.89467597e-02, 7.36707034e-01, 8.72962054e-01,\n",
       "       9.45143274e-01, 6.50798767e-01, 5.37140188e-01, 6.21883446e-01,\n",
       "       8.38372077e-01, 4.43778981e-01, 3.94955020e-01, 2.50019299e-01,\n",
       "       8.02229861e-01, 1.46054430e-01, 8.73351367e-01, 1.54830587e-01,\n",
       "       1.69086089e-01, 2.38218148e-01, 4.62369140e-01, 4.92242282e-01,\n",
       "       9.99938987e-03, 9.97745476e-01, 7.12372713e-01, 1.50599568e-01,\n",
       "       6.98760639e-01, 9.98306005e-01, 5.65538754e-01, 4.29133719e-01,\n",
       "       5.25251706e-01, 4.49101145e-01, 9.35230981e-01, 8.21944736e-01,\n",
       "       7.77729687e-01, 9.19062810e-01, 3.95826329e-01, 1.94849597e-01,\n",
       "       7.60708954e-01, 9.87136573e-01, 5.02459681e-01, 5.02720853e-01,\n",
       "       7.15695590e-01, 9.96870394e-01, 6.31832551e-01, 3.75358500e-01,\n",
       "       6.30349045e-01, 5.43195916e-01, 6.89746729e-01, 8.00716919e-01,\n",
       "       6.04817940e-01, 6.25791850e-01, 8.34377553e-01, 6.74735397e-01,\n",
       "       1.10691450e-02, 5.61761460e-01, 3.27319154e-01, 6.41542828e-01,\n",
       "       5.20336120e-01, 9.63906266e-01, 7.58778355e-01, 9.54484842e-01,\n",
       "       3.01299057e-01, 2.93825657e-01, 6.10459383e-01, 9.76598359e-01,\n",
       "       3.44060138e-01, 4.65680428e-02, 8.75789648e-02, 5.21709278e-02,\n",
       "       5.48424985e-01, 9.61401217e-01, 3.36169366e-01, 2.94383883e-02,\n",
       "       5.72525013e-01, 1.08785493e-01, 5.87783408e-01, 7.07869556e-01,\n",
       "       6.87207744e-01, 3.08209859e-01, 2.16807816e-01, 6.19594043e-01,\n",
       "       5.40323535e-01, 5.31506998e-01, 8.12779622e-01, 9.18051585e-01,\n",
       "       9.97659870e-01, 7.05393285e-01, 5.89682079e-03, 8.58960395e-01,\n",
       "       5.19514429e-01, 2.65218981e-01, 9.46500006e-01, 6.91396727e-01,\n",
       "       3.10074283e-01, 9.29343213e-02, 3.76215722e-01, 8.14007332e-01,\n",
       "       8.13983920e-01, 7.98992608e-01, 4.60121705e-01, 7.37592643e-01,\n",
       "       6.80747713e-01, 5.64041192e-01, 3.40855694e-01, 1.40704546e-01,\n",
       "       7.63447052e-01, 2.81973535e-01, 6.58035128e-01, 8.18916130e-01,\n",
       "       1.55631439e-01, 8.40288788e-01, 7.01592291e-01, 5.19430616e-01,\n",
       "       2.29292263e-01, 7.57391287e-02, 9.94606663e-01, 4.43442609e-01,\n",
       "       1.83435879e-01, 3.56644475e-01, 7.75693315e-01, 3.49510226e-01,\n",
       "       4.28140912e-01, 4.96694840e-01, 5.94058824e-01, 9.82489658e-01,\n",
       "       7.97777478e-02, 8.42892024e-01, 1.80445314e-01, 1.15360637e-01,\n",
       "       9.21226376e-01, 5.49417338e-01, 9.90589331e-01, 9.33898843e-01,\n",
       "       9.09199836e-01, 7.92887536e-01, 3.98560443e-04, 1.97044354e-01,\n",
       "       7.21791374e-01, 1.83315759e-02, 9.25422253e-01, 2.95417582e-01,\n",
       "       5.81587521e-01, 2.83716085e-01, 2.38556710e-01, 2.45595137e-01,\n",
       "       2.69361236e-01, 8.89547431e-02, 5.93368014e-01, 2.45794152e-01,\n",
       "       9.56784347e-01, 1.87627158e-01, 4.86713270e-01, 7.83778059e-01,\n",
       "       4.54003395e-01, 9.16460350e-01, 1.32505915e-01, 6.53085147e-01,\n",
       "       5.95508521e-01, 4.00272183e-01, 5.49338942e-01, 1.74743393e-01,\n",
       "       1.26843376e-01, 3.95986354e-01, 3.90986386e-01, 2.82168127e-01,\n",
       "       6.02696730e-01, 5.09762222e-01, 1.51564865e-01, 2.31631847e-01,\n",
       "       9.82011397e-01, 8.69558397e-02, 6.90471417e-01, 5.43210096e-01,\n",
       "       5.09951021e-01, 9.62583223e-01, 1.20556871e-01, 3.16153475e-01,\n",
       "       5.75657005e-01, 4.99780439e-01, 1.17851506e-01, 3.03480059e-02,\n",
       "       6.60980180e-01, 7.16806850e-01, 8.62008885e-01, 6.47032158e-01,\n",
       "       4.47491907e-01, 3.38911021e-01, 9.06791729e-01, 9.64200973e-02,\n",
       "       7.64338399e-01, 5.74478798e-01, 9.14917679e-02, 7.68339242e-01,\n",
       "       3.64599094e-01, 6.19014883e-01, 5.88390721e-01, 5.53266771e-01,\n",
       "       5.62008454e-01, 3.71081414e-01, 3.75964021e-01, 6.54298485e-01,\n",
       "       2.83767462e-01, 6.64066658e-01, 3.67217011e-01, 6.55311480e-01,\n",
       "       7.65733097e-01, 6.52848861e-01, 8.98859358e-01, 8.39843768e-01,\n",
       "       1.62134104e-01, 4.89018249e-02, 3.23517546e-02, 9.52059381e-01,\n",
       "       5.02012559e-01, 5.42952214e-01, 5.49279927e-01, 6.11134415e-01,\n",
       "       8.35068082e-01, 2.02286085e-02, 4.50674377e-01, 4.19569059e-02,\n",
       "       8.53779787e-01, 8.72357885e-01, 5.60813263e-03, 9.74208102e-01,\n",
       "       5.90789605e-01, 2.58201339e-02, 4.70316985e-01, 8.81912987e-01,\n",
       "       4.24465031e-01, 5.60256866e-01, 6.53632393e-01, 4.63173671e-01,\n",
       "       7.92466987e-01, 6.29248165e-02, 4.69139626e-01, 8.66389648e-01,\n",
       "       4.57669745e-01, 7.78699995e-01, 7.57511434e-01, 7.00769080e-01,\n",
       "       4.03336289e-01, 7.00858137e-01, 1.93260945e-01, 3.13049121e-01,\n",
       "       4.24866836e-02, 6.48529530e-01, 1.57265290e-01, 8.93200213e-01,\n",
       "       2.16757341e-01, 6.33140264e-01, 1.31916826e-01, 4.01214988e-01,\n",
       "       2.39400893e-01, 8.35872386e-01, 4.78700325e-01, 9.73819537e-01,\n",
       "       6.33078248e-01, 5.05974466e-01, 5.85412276e-01, 2.77987208e-01,\n",
       "       1.28374509e-01, 6.12545297e-01, 1.39015328e-01, 8.34641302e-01,\n",
       "       9.10842932e-01, 1.88930639e-01, 1.25637793e-01, 7.51223445e-01,\n",
       "       1.19398166e-01, 3.84123623e-01, 5.90725742e-01, 7.14477994e-02,\n",
       "       5.05128382e-01, 8.99473160e-01, 8.20561277e-01, 7.89067105e-01,\n",
       "       3.82680484e-01, 2.08465594e-01, 1.57933246e-01, 1.98270802e-01,\n",
       "       9.75186876e-01, 6.06208203e-01, 6.31211162e-01, 8.06211122e-01,\n",
       "       2.23094249e-01, 3.63551362e-01, 2.59727667e-01, 9.03912376e-01,\n",
       "       8.19645588e-01, 3.27356471e-01, 5.36401317e-01, 9.52441941e-01,\n",
       "       8.20643670e-01, 8.59292762e-01, 7.49453758e-01, 7.92715984e-01,\n",
       "       4.05749530e-01, 7.49515231e-01, 6.63246071e-02, 2.04837598e-01,\n",
       "       5.57112024e-01, 5.39501852e-01, 9.20564456e-01, 5.58481812e-01,\n",
       "       3.00644562e-02, 6.77171565e-01, 8.40170288e-01, 7.78073870e-01,\n",
       "       4.11056481e-01, 7.59554811e-01, 8.19620279e-01, 4.94666370e-01,\n",
       "       9.06729117e-01, 1.62703022e-01, 9.25757366e-01, 1.78206604e-01,\n",
       "       2.47245251e-01, 6.12259404e-01, 1.35415513e-01, 3.67047486e-01,\n",
       "       5.09877982e-01, 2.11781856e-01, 8.05550939e-01, 3.12117666e-01,\n",
       "       8.70378665e-01, 7.95783246e-01, 1.70303246e-01, 9.15427576e-01,\n",
       "       1.89455200e-01, 8.40903448e-01, 1.08747187e-01, 3.77965413e-01,\n",
       "       6.61014678e-01, 3.96197097e-01, 2.16876484e-01, 6.06555871e-01,\n",
       "       4.94577400e-01, 3.68876925e-01, 5.26074662e-01, 3.08997270e-01,\n",
       "       6.43797063e-02, 8.13703996e-01, 8.74229981e-01, 1.40284393e-02,\n",
       "       5.66428806e-01, 4.64828561e-02, 9.42047238e-01, 1.36858645e-02,\n",
       "       4.17971038e-01, 9.34553162e-01, 9.99869298e-01, 9.34779154e-01,\n",
       "       5.03507721e-01, 8.49075764e-01, 2.81884877e-01, 6.88722546e-01,\n",
       "       4.73594138e-01, 3.44285552e-01, 2.28697004e-01, 8.20872507e-01,\n",
       "       9.81846947e-01, 5.68690157e-01, 1.70610587e-01, 5.05625365e-01,\n",
       "       2.93435899e-01, 7.14309980e-01, 9.66901078e-01, 3.56964618e-01,\n",
       "       7.89936467e-01, 8.83229206e-01, 6.12341253e-01, 7.15313735e-01,\n",
       "       8.16829313e-01, 6.08320542e-01, 6.18609625e-01, 3.59130501e-01,\n",
       "       7.34328266e-01, 1.28475527e-01, 1.42399919e-01, 6.69720666e-01,\n",
       "       9.95226823e-01, 2.02257276e-01, 5.06056641e-01, 6.69331941e-01,\n",
       "       6.23977499e-01, 8.03749104e-01, 6.52756361e-01, 9.25664471e-01,\n",
       "       3.50627720e-01, 4.36887063e-01, 4.68531101e-01, 5.49105640e-01,\n",
       "       3.96494449e-01, 2.70260683e-01, 5.83990295e-01, 9.71635402e-01,\n",
       "       4.86619063e-01, 4.49057267e-01, 8.70099115e-01, 2.00794139e-01,\n",
       "       7.07138774e-01, 8.83562132e-01, 8.17528532e-01, 3.67163191e-01,\n",
       "       8.69709224e-01, 7.70171764e-01, 6.71388085e-01, 5.61145383e-01,\n",
       "       9.22002821e-01, 3.65820862e-01, 4.48982599e-01, 5.44337259e-01,\n",
       "       6.44934583e-01, 7.91791916e-01, 8.08285256e-01, 4.26563321e-01,\n",
       "       6.93946616e-01, 3.72424714e-01, 2.28266548e-01, 4.63918622e-01,\n",
       "       1.43261577e-01, 4.03126132e-01, 4.70223633e-01, 1.45971124e-02,\n",
       "       5.97228039e-01, 6.11178053e-02, 4.88383600e-01, 8.20447918e-01,\n",
       "       1.03175556e-02, 9.62776603e-01, 4.46038049e-01, 1.89201773e-01,\n",
       "       3.46641860e-01, 6.35457902e-02, 3.27867641e-01, 2.92894404e-01,\n",
       "       3.90371080e-01, 9.84129053e-02, 6.95113616e-01, 2.51528922e-01,\n",
       "       1.32379795e-01, 6.42008265e-01, 1.36025566e-01, 8.71599122e-01,\n",
       "       3.33995470e-02, 1.96442371e-01, 5.38349644e-01, 6.27450925e-01,\n",
       "       5.59240265e-01, 6.15523417e-01, 8.95059169e-01, 2.30452185e-01,\n",
       "       8.06787963e-01, 6.47174567e-01, 2.78361571e-01, 1.91170687e-01])"
      ]
     },
     "execution_count": 22,
     "metadata": {},
     "output_type": "execute_result"
    }
   ],
   "source": [
    "## Generating 1000 random numbers\n",
    "ran_numbers = np.random.random(1000)\n",
    "ran_numbers"
   ]
  },
  {
   "cell_type": "markdown",
   "metadata": {},
   "source": [
    "### Plotting the distributions\n"
   ]
  },
  {
   "cell_type": "code",
   "execution_count": 23,
   "metadata": {},
   "outputs": [
    {
     "data": {
      "image/png": "[encoded data removed]",
      "text/plain": [
       "<Figure size 432x288 with 1 Axes>"
      ]
     },
     "metadata": {
      "needs_background": "light"
     },
     "output_type": "display_data"
    }
   ],
   "source": [
    "## pmf\n",
    "# Solution\n",
    "\n",
    "pmf = thinkstats2.Pmf(ran_numbers)\n",
    "thinkplot.Pmf(pmf, linewidth=0.1)\n",
    "thinkplot.Config(xlabel='Random variate', ylabel='PMF')"
   ]
  },
  {
   "cell_type": "code",
   "execution_count": 24,
   "metadata": {},
   "outputs": [
    {
     "data": {
      "image/png": "[encoded data removed]",
      "text/plain": [
       "<Figure size 432x288 with 1 Axes>"
      ]
     },
     "metadata": {
      "needs_background": "light"
     },
     "output_type": "display_data"
    }
   ],
   "source": [
    "## cdf\n",
    "cdf = thinkstats2.Cdf(ran_numbers)\n",
    "thinkplot.Cdf(cdf)\n",
    "thinkplot.Config(xlabel='Random variate', ylabel='CDF')"
   ]
  },
  {
   "cell_type": "markdown",
   "metadata": {},
   "source": [
    "From the *PFM* plot, the variable has a uniform distribution. "
   ]
  },
  {
   "cell_type": "code",
   "execution_count": null,
   "metadata": {},
   "outputs": [],
   "source": []
  }
 ],
 "metadata": {
  "kernelspec": {
   "display_name": "Python 3",
   "language": "python",
   "name": "python3"
  },
  "language_info": {
   "codemirror_mode": {
    "name": "ipython",
    "version": 3
   },
   "file_extension": ".py",
   "mimetype": "text/x-python",
   "name": "python",
   "nbconvert_exporter": "python",
   "pygments_lexer": "ipython3",
   "version": "3.8.5"
  }
 },
 "nbformat": 4,
 "nbformat_minor": 2
}
